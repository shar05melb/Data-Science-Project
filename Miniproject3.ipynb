{
 "cells": [
  {
   "cell_type": "markdown",
   "id": "7cf7efee-de1c-43c7-b808-efc962f38c0e",
   "metadata": {},
   "source": [
    "# Marketing Attribution Models using Markov Chains"
   ]
  },
  {
   "cell_type": "markdown",
   "id": "e1934ec5-e735-4ae0-b672-e3015945ae53",
   "metadata": {},
   "source": []
  },
  {
   "cell_type": "markdown",
   "id": "ff60ab6a-e16c-4f6f-93c8-27f19116d9d4",
   "metadata": {},
   "source": [
    "EDA\n"
   ]
  },
  {
   "cell_type": "code",
   "execution_count": 2,
   "id": "b43ce9bf-5ba3-4ac7-80d1-635d63e8c5d4",
   "metadata": {},
   "outputs": [
    {
     "data": {
      "text/html": [
       "<div>\n",
       "<style scoped>\n",
       "    .dataframe tbody tr th:only-of-type {\n",
       "        vertical-align: middle;\n",
       "    }\n",
       "\n",
       "    .dataframe tbody tr th {\n",
       "        vertical-align: top;\n",
       "    }\n",
       "\n",
       "    .dataframe thead th {\n",
       "        text-align: right;\n",
       "    }\n",
       "</style>\n",
       "<table border=\"1\" class=\"dataframe\">\n",
       "  <thead>\n",
       "    <tr style=\"text-align: right;\">\n",
       "      <th></th>\n",
       "      <th>cookie</th>\n",
       "      <th>time</th>\n",
       "      <th>interaction</th>\n",
       "      <th>conversion</th>\n",
       "      <th>conversion_value</th>\n",
       "      <th>channel</th>\n",
       "    </tr>\n",
       "  </thead>\n",
       "  <tbody>\n",
       "    <tr>\n",
       "      <th>586736</th>\n",
       "      <td>ooooohAFofEnonEikhAi3fF9o</td>\n",
       "      <td>2018-07-14T17:17:12Z</td>\n",
       "      <td>impression</td>\n",
       "      <td>0</td>\n",
       "      <td>0.0</td>\n",
       "      <td>Paid Search</td>\n",
       "    </tr>\n",
       "    <tr>\n",
       "      <th>586734</th>\n",
       "      <td>ooooiBh70D3k3BfAhDFfii9h7</td>\n",
       "      <td>2018-07-03T12:57:25Z</td>\n",
       "      <td>impression</td>\n",
       "      <td>0</td>\n",
       "      <td>0.0</td>\n",
       "      <td>Paid Search</td>\n",
       "    </tr>\n",
       "    <tr>\n",
       "      <th>586735</th>\n",
       "      <td>ooooiBh70D3k3BfAhDFfii9h7</td>\n",
       "      <td>2018-07-19T08:17:59Z</td>\n",
       "      <td>impression</td>\n",
       "      <td>0</td>\n",
       "      <td>0.0</td>\n",
       "      <td>Online Video</td>\n",
       "    </tr>\n",
       "    <tr>\n",
       "      <th>586731</th>\n",
       "      <td>ooooEiB0CCoEf9fiiC90Dfhfk</td>\n",
       "      <td>2018-07-06T23:30:38Z</td>\n",
       "      <td>impression</td>\n",
       "      <td>0</td>\n",
       "      <td>0.0</td>\n",
       "      <td>Online Display</td>\n",
       "    </tr>\n",
       "    <tr>\n",
       "      <th>586732</th>\n",
       "      <td>ooooEiB0CCoEf9fiiC90Dfhfk</td>\n",
       "      <td>2018-07-12T23:50:45Z</td>\n",
       "      <td>impression</td>\n",
       "      <td>0</td>\n",
       "      <td>0.0</td>\n",
       "      <td>Online Display</td>\n",
       "    </tr>\n",
       "  </tbody>\n",
       "</table>\n",
       "</div>"
      ],
      "text/plain": [
       "                           cookie                  time interaction  \\\n",
       "586736  ooooohAFofEnonEikhAi3fF9o  2018-07-14T17:17:12Z  impression   \n",
       "586734  ooooiBh70D3k3BfAhDFfii9h7  2018-07-03T12:57:25Z  impression   \n",
       "586735  ooooiBh70D3k3BfAhDFfii9h7  2018-07-19T08:17:59Z  impression   \n",
       "586731  ooooEiB0CCoEf9fiiC90Dfhfk  2018-07-06T23:30:38Z  impression   \n",
       "586732  ooooEiB0CCoEf9fiiC90Dfhfk  2018-07-12T23:50:45Z  impression   \n",
       "\n",
       "        conversion  conversion_value         channel  \n",
       "586736           0               0.0     Paid Search  \n",
       "586734           0               0.0     Paid Search  \n",
       "586735           0               0.0    Online Video  \n",
       "586731           0               0.0  Online Display  \n",
       "586732           0               0.0  Online Display  "
      ]
     },
     "execution_count": 2,
     "metadata": {},
     "output_type": "execute_result"
    }
   ],
   "source": [
    "import pandas as pd\n",
    "import numpy as np\n",
    "from collections import defaultdict\n",
    "\n",
    "df = pd.read_csv('attribution data.csv')\n",
    "df = df.sort_values(['cookie', 'time'],\n",
    "                    ascending=[False, True])\n",
    "df.head()"
   ]
  },
  {
   "cell_type": "code",
   "execution_count": 4,
   "id": "7d3d371f-a687-4201-830b-4475b99c3c62",
   "metadata": {
    "scrolled": true
   },
   "outputs": [
    {
     "data": {
      "text/html": [
       "<div>\n",
       "<style scoped>\n",
       "    .dataframe tbody tr th:only-of-type {\n",
       "        vertical-align: middle;\n",
       "    }\n",
       "\n",
       "    .dataframe tbody tr th {\n",
       "        vertical-align: top;\n",
       "    }\n",
       "\n",
       "    .dataframe thead th {\n",
       "        text-align: right;\n",
       "    }\n",
       "</style>\n",
       "<table border=\"1\" class=\"dataframe\">\n",
       "  <thead>\n",
       "    <tr style=\"text-align: right;\">\n",
       "      <th></th>\n",
       "      <th>cookie</th>\n",
       "      <th>time</th>\n",
       "      <th>interaction</th>\n",
       "      <th>conversion</th>\n",
       "      <th>conversion_value</th>\n",
       "      <th>channel</th>\n",
       "      <th>visit_order</th>\n",
       "    </tr>\n",
       "  </thead>\n",
       "  <tbody>\n",
       "    <tr>\n",
       "      <th>586736</th>\n",
       "      <td>ooooohAFofEnonEikhAi3fF9o</td>\n",
       "      <td>2018-07-14T17:17:12Z</td>\n",
       "      <td>impression</td>\n",
       "      <td>0</td>\n",
       "      <td>0.0</td>\n",
       "      <td>Paid Search</td>\n",
       "      <td>1</td>\n",
       "    </tr>\n",
       "    <tr>\n",
       "      <th>586734</th>\n",
       "      <td>ooooiBh70D3k3BfAhDFfii9h7</td>\n",
       "      <td>2018-07-03T12:57:25Z</td>\n",
       "      <td>impression</td>\n",
       "      <td>0</td>\n",
       "      <td>0.0</td>\n",
       "      <td>Paid Search</td>\n",
       "      <td>1</td>\n",
       "    </tr>\n",
       "    <tr>\n",
       "      <th>586735</th>\n",
       "      <td>ooooiBh70D3k3BfAhDFfii9h7</td>\n",
       "      <td>2018-07-19T08:17:59Z</td>\n",
       "      <td>impression</td>\n",
       "      <td>0</td>\n",
       "      <td>0.0</td>\n",
       "      <td>Online Video</td>\n",
       "      <td>2</td>\n",
       "    </tr>\n",
       "    <tr>\n",
       "      <th>586731</th>\n",
       "      <td>ooooEiB0CCoEf9fiiC90Dfhfk</td>\n",
       "      <td>2018-07-06T23:30:38Z</td>\n",
       "      <td>impression</td>\n",
       "      <td>0</td>\n",
       "      <td>0.0</td>\n",
       "      <td>Online Display</td>\n",
       "      <td>1</td>\n",
       "    </tr>\n",
       "    <tr>\n",
       "      <th>586732</th>\n",
       "      <td>ooooEiB0CCoEf9fiiC90Dfhfk</td>\n",
       "      <td>2018-07-12T23:50:45Z</td>\n",
       "      <td>impression</td>\n",
       "      <td>0</td>\n",
       "      <td>0.0</td>\n",
       "      <td>Online Display</td>\n",
       "      <td>2</td>\n",
       "    </tr>\n",
       "  </tbody>\n",
       "</table>\n",
       "</div>"
      ],
      "text/plain": [
       "                           cookie                  time interaction  \\\n",
       "586736  ooooohAFofEnonEikhAi3fF9o  2018-07-14T17:17:12Z  impression   \n",
       "586734  ooooiBh70D3k3BfAhDFfii9h7  2018-07-03T12:57:25Z  impression   \n",
       "586735  ooooiBh70D3k3BfAhDFfii9h7  2018-07-19T08:17:59Z  impression   \n",
       "586731  ooooEiB0CCoEf9fiiC90Dfhfk  2018-07-06T23:30:38Z  impression   \n",
       "586732  ooooEiB0CCoEf9fiiC90Dfhfk  2018-07-12T23:50:45Z  impression   \n",
       "\n",
       "        conversion  conversion_value         channel  visit_order  \n",
       "586736           0               0.0     Paid Search            1  \n",
       "586734           0               0.0     Paid Search            1  \n",
       "586735           0               0.0    Online Video            2  \n",
       "586731           0               0.0  Online Display            1  \n",
       "586732           0               0.0  Online Display            2  "
      ]
     },
     "execution_count": 4,
     "metadata": {},
     "output_type": "execute_result"
    }
   ],
   "source": [
    "df['visit_order'] = df.groupby('cookie').cumcount() + 1\n",
    "df.head()"
   ]
  },
  {
   "cell_type": "markdown",
   "id": "247e7555-4a4a-4c91-ac83-314ecb4eeba2",
   "metadata": {},
   "source": [
    "# Transform the dataset represents a user cookie"
   ]
  },
  {
   "cell_type": "code",
   "execution_count": 5,
   "id": "08abd556-29c3-4a9f-9d94-4aedb2c656c8",
   "metadata": {},
   "outputs": [
    {
     "data": {
      "text/html": [
       "<div>\n",
       "<style scoped>\n",
       "    .dataframe tbody tr th:only-of-type {\n",
       "        vertical-align: middle;\n",
       "    }\n",
       "\n",
       "    .dataframe tbody tr th {\n",
       "        vertical-align: top;\n",
       "    }\n",
       "\n",
       "    .dataframe thead th {\n",
       "        text-align: right;\n",
       "    }\n",
       "</style>\n",
       "<table border=\"1\" class=\"dataframe\">\n",
       "  <thead>\n",
       "    <tr style=\"text-align: right;\">\n",
       "      <th></th>\n",
       "      <th>cookie</th>\n",
       "      <th>channel</th>\n",
       "    </tr>\n",
       "  </thead>\n",
       "  <tbody>\n",
       "    <tr>\n",
       "      <th>0</th>\n",
       "      <td>00000FkCnDfDDf0iC97iC703B</td>\n",
       "      <td>[Instagram, Online Display]</td>\n",
       "    </tr>\n",
       "    <tr>\n",
       "      <th>1</th>\n",
       "      <td>0000nACkD9nFkBBDECD3ki00E</td>\n",
       "      <td>[Paid Search]</td>\n",
       "    </tr>\n",
       "    <tr>\n",
       "      <th>2</th>\n",
       "      <td>0003EfE37E93D0BC03iBhBBhF</td>\n",
       "      <td>[Paid Search]</td>\n",
       "    </tr>\n",
       "    <tr>\n",
       "      <th>3</th>\n",
       "      <td>00073CFE3FoFCn70fBhB3kfon</td>\n",
       "      <td>[Instagram]</td>\n",
       "    </tr>\n",
       "    <tr>\n",
       "      <th>4</th>\n",
       "      <td>00079hhBkDF3k3kDkiFi9EFAD</td>\n",
       "      <td>[Paid Search]</td>\n",
       "    </tr>\n",
       "  </tbody>\n",
       "</table>\n",
       "</div>"
      ],
      "text/plain": [
       "                      cookie                      channel\n",
       "0  00000FkCnDfDDf0iC97iC703B  [Instagram, Online Display]\n",
       "1  0000nACkD9nFkBBDECD3ki00E                [Paid Search]\n",
       "2  0003EfE37E93D0BC03iBhBBhF                [Paid Search]\n",
       "3  00073CFE3FoFCn70fBhB3kfon                  [Instagram]\n",
       "4  00079hhBkDF3k3kDkiFi9EFAD                [Paid Search]"
      ]
     },
     "execution_count": 5,
     "metadata": {},
     "output_type": "execute_result"
    }
   ],
   "source": [
    "df_paths = df.groupby('cookie')['channel'].aggregate(\n",
    "    lambda x: x.unique().tolist()).reset_index()\n",
    "\n",
    "df_paths.head()"
   ]
  },
  {
   "cell_type": "markdown",
   "id": "b74d5eb9-448f-409c-bdf0-a6956a489f79",
   "metadata": {},
   "source": [
    "# cookie and conversion state of the last interaction"
   ]
  },
  {
   "cell_type": "code",
   "execution_count": 7,
   "id": "54f71878-b99a-4cf4-bb68-8c36537ff74a",
   "metadata": {},
   "outputs": [
    {
     "data": {
      "text/html": [
       "<div>\n",
       "<style scoped>\n",
       "    .dataframe tbody tr th:only-of-type {\n",
       "        vertical-align: middle;\n",
       "    }\n",
       "\n",
       "    .dataframe tbody tr th {\n",
       "        vertical-align: top;\n",
       "    }\n",
       "\n",
       "    .dataframe thead th {\n",
       "        text-align: right;\n",
       "    }\n",
       "</style>\n",
       "<table border=\"1\" class=\"dataframe\">\n",
       "  <thead>\n",
       "    <tr style=\"text-align: right;\">\n",
       "      <th></th>\n",
       "      <th>cookie</th>\n",
       "      <th>conversion</th>\n",
       "    </tr>\n",
       "  </thead>\n",
       "  <tbody>\n",
       "    <tr>\n",
       "      <th>586736</th>\n",
       "      <td>ooooohAFofEnonEikhAi3fF9o</td>\n",
       "      <td>0</td>\n",
       "    </tr>\n",
       "    <tr>\n",
       "      <th>586735</th>\n",
       "      <td>ooooiBh70D3k3BfAhDFfii9h7</td>\n",
       "      <td>0</td>\n",
       "    </tr>\n",
       "    <tr>\n",
       "      <th>586733</th>\n",
       "      <td>ooooEiB0CCoEf9fiiC90Dfhfk</td>\n",
       "      <td>0</td>\n",
       "    </tr>\n",
       "    <tr>\n",
       "      <th>586730</th>\n",
       "      <td>ooooEBE0o0D97ACAAAnDoi3F0</td>\n",
       "      <td>0</td>\n",
       "    </tr>\n",
       "    <tr>\n",
       "      <th>586729</th>\n",
       "      <td>ooooE0hkAFBkED90ChDDiBFAf</td>\n",
       "      <td>0</td>\n",
       "    </tr>\n",
       "  </tbody>\n",
       "</table>\n",
       "</div>"
      ],
      "text/plain": [
       "                           cookie  conversion\n",
       "586736  ooooohAFofEnonEikhAi3fF9o           0\n",
       "586735  ooooiBh70D3k3BfAhDFfii9h7           0\n",
       "586733  ooooEiB0CCoEf9fiiC90Dfhfk           0\n",
       "586730  ooooEBE0o0D97ACAAAnDoi3F0           0\n",
       "586729  ooooE0hkAFBkED90ChDDiBFAf           0"
      ]
     },
     "execution_count": 7,
     "metadata": {},
     "output_type": "execute_result"
    }
   ],
   "source": [
    "df_last_interaction = df.drop_duplicates('cookie', keep='last')[['cookie', 'conversion']]\n",
    "df_last_interaction.head()"
   ]
  },
  {
   "cell_type": "markdown",
   "id": "9e3fef07-ee46-48e1-a18f-447c98a4a5a3",
   "metadata": {},
   "source": [
    "# COOKIE + CONVERSION"
   ]
  },
  {
   "cell_type": "code",
   "execution_count": 8,
   "id": "942957be-f881-44b4-aba2-8456cc489e5d",
   "metadata": {},
   "outputs": [
    {
     "data": {
      "text/html": [
       "<div>\n",
       "<style scoped>\n",
       "    .dataframe tbody tr th:only-of-type {\n",
       "        vertical-align: middle;\n",
       "    }\n",
       "\n",
       "    .dataframe tbody tr th {\n",
       "        vertical-align: top;\n",
       "    }\n",
       "\n",
       "    .dataframe thead th {\n",
       "        text-align: right;\n",
       "    }\n",
       "</style>\n",
       "<table border=\"1\" class=\"dataframe\">\n",
       "  <thead>\n",
       "    <tr style=\"text-align: right;\">\n",
       "      <th></th>\n",
       "      <th>cookie</th>\n",
       "      <th>channel</th>\n",
       "      <th>conversion</th>\n",
       "    </tr>\n",
       "  </thead>\n",
       "  <tbody>\n",
       "    <tr>\n",
       "      <th>0</th>\n",
       "      <td>00000FkCnDfDDf0iC97iC703B</td>\n",
       "      <td>[Instagram, Online Display]</td>\n",
       "      <td>0</td>\n",
       "    </tr>\n",
       "    <tr>\n",
       "      <th>1</th>\n",
       "      <td>0000nACkD9nFkBBDECD3ki00E</td>\n",
       "      <td>[Paid Search]</td>\n",
       "      <td>0</td>\n",
       "    </tr>\n",
       "    <tr>\n",
       "      <th>2</th>\n",
       "      <td>0003EfE37E93D0BC03iBhBBhF</td>\n",
       "      <td>[Paid Search]</td>\n",
       "      <td>0</td>\n",
       "    </tr>\n",
       "    <tr>\n",
       "      <th>3</th>\n",
       "      <td>00073CFE3FoFCn70fBhB3kfon</td>\n",
       "      <td>[Instagram]</td>\n",
       "      <td>0</td>\n",
       "    </tr>\n",
       "    <tr>\n",
       "      <th>4</th>\n",
       "      <td>00079hhBkDF3k3kDkiFi9EFAD</td>\n",
       "      <td>[Paid Search]</td>\n",
       "      <td>0</td>\n",
       "    </tr>\n",
       "  </tbody>\n",
       "</table>\n",
       "</div>"
      ],
      "text/plain": [
       "                      cookie                      channel  conversion\n",
       "0  00000FkCnDfDDf0iC97iC703B  [Instagram, Online Display]           0\n",
       "1  0000nACkD9nFkBBDECD3ki00E                [Paid Search]           0\n",
       "2  0003EfE37E93D0BC03iBhBBhF                [Paid Search]           0\n",
       "3  00073CFE3FoFCn70fBhB3kfon                  [Instagram]           0\n",
       "4  00079hhBkDF3k3kDkiFi9EFAD                [Paid Search]           0"
      ]
     },
     "execution_count": 8,
     "metadata": {},
     "output_type": "execute_result"
    }
   ],
   "source": [
    "df_paths = pd.merge(df_paths, df_last_interaction, how='left', on='cookie')\n",
    "df_paths.head()"
   ]
  },
  {
   "cell_type": "code",
   "execution_count": null,
   "id": "03477bad-5ff1-47dd-b9bb-c26dd1083a1d",
   "metadata": {},
   "outputs": [],
   "source": []
  },
  {
   "cell_type": "markdown",
   "id": "13d70387-ceda-4ce7-8cc8-668fc45ba1cd",
   "metadata": {},
   "source": [
    "# CUSTOMERS PATH"
   ]
  },
  {
   "cell_type": "code",
   "execution_count": 11,
   "id": "73cb740a-7181-4f75-8c98-2af7c294296f",
   "metadata": {},
   "outputs": [],
   "source": [
    "df_paths_copy = df_paths.copy()"
   ]
  },
  {
   "cell_type": "code",
   "execution_count": null,
   "id": "28ada14e-0ec7-42b4-83f0-42a98b65aa25",
   "metadata": {},
   "outputs": [],
   "source": [
    "# init empty\n",
    "df_paths_copy['path'] = np.repeat([\"\"], repeats=df_paths_copy.shape[0])\n",
    "\n",
    "# assign\n",
    "for i in range(df_paths_copy.shape[0]):\n",
    "    if df_paths_copy['conversion'][i] == 0:\n",
    "        df_paths_copy['path'][i] = ['Start'] + df_paths_copy['channel'][i] + ['Null']\n",
    "    else:\n",
    "        df_paths_copy['path'][i] = ['Start'] + df_paths_copy['channel'][i] + ['Conversion']\n"
   ]
  },
  {
   "cell_type": "markdown",
   "id": "38c8077b-4a36-4b75-a2fe-1ed00a6a1cde",
   "metadata": {},
   "source": [
    "Head"
   ]
  },
  {
   "cell_type": "code",
   "execution_count": null,
   "id": "8409961b-b429-441a-bbc2-20f280db2708",
   "metadata": {},
   "outputs": [],
   "source": [
    "df_paths_copy = df_paths_copy[['cookie', 'path']]\n",
    "df_paths_copy.head()"
   ]
  },
  {
   "cell_type": "markdown",
   "id": "31618cf7-8950-4f0d-b311-b7c0faebad7f",
   "metadata": {},
   "source": [
    "# Transition Probability Matrix\n"
   ]
  },
  {
   "cell_type": "markdown",
   "id": "093a4438-aafa-41f6-a6cd-c697bc8492e2",
   "metadata": {},
   "source": [
    "__List of ALL User journeys__"
   ]
  },
  {
   "cell_type": "code",
   "execution_count": 43,
   "id": "e31d30ba-51c3-4cdb-97f6-b4cf6493a8ae",
   "metadata": {},
   "outputs": [
    {
     "name": "stdout",
     "output_type": "stream",
     "text": [
      "Conversion Rate: 0.07346277508454528\n"
     ]
    }
   ],
   "source": [
    "list_of_paths = df_paths_copy['path']\n",
    "total_conversions = sum(path.count('Conversion') for path in df_paths_copy['path'].tolist())\n",
    "base_conversion_rate = total_conversions / len(list_of_paths)\n",
    "print(\"Conversion Rate:\", base_conversion_rate)"
   ]
  },
  {
   "cell_type": "code",
   "execution_count": 45,
   "id": "df999d60-b993-4d59-80d1-8b2129d236f7",
   "metadata": {},
   "outputs": [
    {
     "data": {
      "text/plain": [
       "{'Null>Null': 0,\n",
       " 'Null>Facebook': 0,\n",
       " 'Null>Online Display': 0,\n",
       " 'Null>Instagram': 0,\n",
       " 'Null>Start': 0,\n",
       " 'Null>Paid Search': 0,\n",
       " 'Null>Conversion': 0,\n",
       " 'Null>Online Video': 0,\n",
       " 'Facebook>Null': 59319,\n",
       " 'Facebook>Facebook': 0,\n",
       " 'Facebook>Online Display': 2146,\n",
       " 'Facebook>Instagram': 15252,\n",
       " 'Facebook>Start': 0,\n",
       " 'Facebook>Paid Search': 4464,\n",
       " 'Facebook>Conversion': 4690,\n",
       " 'Facebook>Online Video': 2254,\n",
       " 'Online Display>Null': 32236,\n",
       " 'Online Display>Facebook': 2300,\n",
       " 'Online Display>Online Display': 0,\n",
       " 'Online Display>Instagram': 1251,\n",
       " 'Online Display>Start': 0,\n",
       " 'Online Display>Paid Search': 3936,\n",
       " 'Online Display>Conversion': 2144,\n",
       " 'Online Display>Online Video': 737,\n",
       " 'Instagram>Null': 31153,\n",
       " 'Instagram>Facebook': 10822,\n",
       " 'Instagram>Online Display': 1164,\n",
       " 'Instagram>Instagram': 0,\n",
       " 'Instagram>Start': 0,\n",
       " 'Instagram>Paid Search': 2266,\n",
       " 'Instagram>Conversion': 2868,\n",
       " 'Instagram>Online Video': 1193,\n",
       " 'Start>Null': 0,\n",
       " 'Start>Facebook': 66848,\n",
       " 'Start>Online Display': 34250,\n",
       " 'Start>Instagram': 28618,\n",
       " 'Start>Start': 0,\n",
       " 'Start>Paid Search': 76210,\n",
       " 'Start>Conversion': 0,\n",
       " 'Start>Online Video': 34182,\n",
       " 'Paid Search>Null': 68476,\n",
       " 'Paid Search>Facebook': 5725,\n",
       " 'Paid Search>Online Display': 4269,\n",
       " 'Paid Search>Instagram': 3038,\n",
       " 'Paid Search>Start': 0,\n",
       " 'Paid Search>Paid Search': 0,\n",
       " 'Paid Search>Conversion': 4736,\n",
       " 'Paid Search>Online Video': 2596,\n",
       " 'Conversion>Null': 0,\n",
       " 'Conversion>Facebook': 0,\n",
       " 'Conversion>Online Display': 0,\n",
       " 'Conversion>Instagram': 0,\n",
       " 'Conversion>Start': 0,\n",
       " 'Conversion>Paid Search': 0,\n",
       " 'Conversion>Conversion': 0,\n",
       " 'Conversion>Online Video': 0,\n",
       " 'Online Video>Null': 31285,\n",
       " 'Online Video>Facebook': 2430,\n",
       " 'Online Video>Online Display': 775,\n",
       " 'Online Video>Instagram': 1307,\n",
       " 'Online Video>Start': 0,\n",
       " 'Online Video>Paid Search': 1964,\n",
       " 'Online Video>Conversion': 3201,\n",
       " 'Online Video>Online Video': 0}"
      ]
     },
     "execution_count": 45,
     "metadata": {},
     "output_type": "execute_result"
    }
   ],
   "source": [
    "# Count the occurences of various transitions\n",
    "def transition_states(list_of_paths):\n",
    "    list_of_unique_channels = set(x for element in list_of_paths for x in element)\n",
    "    transition_states = {x + '>' + y: 0 for x in list_of_unique_channels for y in list_of_unique_channels}\n",
    "\n",
    "    for possible_state in list_of_unique_channels:\n",
    "        if possible_state not in ['Conversion', 'Null']:\n",
    "            for user_path in list_of_paths:\n",
    "                if possible_state in user_path:\n",
    "                    indices = [i for i, s in enumerate(user_path) if possible_state in s]\n",
    "                    for col in indices:\n",
    "                        transition_states[user_path[col] + '>' + user_path[col + 1]] += 1\n",
    "\n",
    "    return transition_states\n",
    "\n",
    "trans_states = transition_states(list_of_paths)\n",
    "trans_states"
   ]
  },
  {
   "cell_type": "code",
   "execution_count": null,
   "id": "332c6c1b-fdee-4e14-8884-ac2337954621",
   "metadata": {},
   "outputs": [],
   "source": []
  },
  {
   "cell_type": "markdown",
   "id": "2e48a697-a7ac-48ab-972e-76dd0963fee1",
   "metadata": {},
   "source": [
    "\n",
    "Function to calculate transition probabilities"
   ]
  },
  {
   "cell_type": "code",
   "execution_count": 47,
   "id": "f38cf554-55e8-450e-812b-ab1c30b53c16",
   "metadata": {},
   "outputs": [
    {
     "data": {
      "text/plain": [
       "defaultdict(dict,\n",
       "            {'Facebook>Null': 0.6731234042553191,\n",
       "             'Facebook>Online Display': 0.02435177304964539,\n",
       "             'Facebook>Instagram': 0.1730723404255319,\n",
       "             'Facebook>Paid Search': 0.05065531914893617,\n",
       "             'Facebook>Conversion': 0.053219858156028366,\n",
       "             'Facebook>Online Video': 0.025577304964539006,\n",
       "             'Online Display>Null': 0.7566425687728852,\n",
       "             'Online Display>Facebook': 0.053985541263731104,\n",
       "             'Online Display>Instagram': 0.02936344005257722,\n",
       "             'Online Display>Paid Search': 0.09238569148436766,\n",
       "             'Online Display>Conversion': 0.05032391324758239,\n",
       "             'Online Display>Online Video': 0.017298845178856444,\n",
       "             'Instagram>Null': 0.6297861157158452,\n",
       "             'Instagram>Facebook': 0.2187765333764606,\n",
       "             'Instagram>Online Display': 0.023531314438199977,\n",
       "             'Instagram>Paid Search': 0.04580924271216593,\n",
       "             'Instagram>Conversion': 0.057979218048760765,\n",
       "             'Instagram>Online Video': 0.024117575708567502,\n",
       "             'Start>Facebook': 0.2784080497109634,\n",
       "             'Start>Online Display': 0.14264414346877238,\n",
       "             'Start>Instagram': 0.11918803205224315,\n",
       "             'Start>Paid Search': 0.31739883718993117,\n",
       "             'Start>Online Video': 0.14236093757808985,\n",
       "             'Paid Search>Null': 0.7707789284106259,\n",
       "             'Paid Search>Facebook': 0.06444169293111211,\n",
       "             'Paid Search>Online Display': 0.04805267897343539,\n",
       "             'Paid Search>Instagram': 0.03419630796938316,\n",
       "             'Paid Search>Conversion': 0.053309320126069336,\n",
       "             'Paid Search>Online Video': 0.029221071589374155,\n",
       "             'Online Video>Null': 0.7637566525072018,\n",
       "             'Online Video>Facebook': 0.059323275230701626,\n",
       "             'Online Video>Online Display': 0.018919974610614718,\n",
       "             'Online Video>Instagram': 0.03190762169815927,\n",
       "             'Online Video>Paid Search': 0.04794687759386749,\n",
       "             'Online Video>Conversion': 0.0781455983594551})"
      ]
     },
     "execution_count": 47,
     "metadata": {},
     "output_type": "execute_result"
    }
   ],
   "source": [
    "def transition_prob(trans_dict):\n",
    "    list_of_unique_channels = set(x for element in list_of_paths for x in element)\n",
    "    trans_prob = defaultdict(dict)\n",
    "    for state in list_of_unique_channels:\n",
    "        if state not in ['Conversion', 'Null']:\n",
    "            counter = 0\n",
    "            index = [i for i, s in enumerate(trans_dict) if state + '>' in s]\n",
    "            for col in index:\n",
    "                if trans_dict[list(trans_dict)[col]] > 0:\n",
    "                    counter += trans_dict[list(trans_dict)[col]]\n",
    "            for col in index:\n",
    "                if trans_dict[list(trans_dict)[col]] > 0:\n",
    "                    state_prob = float((trans_dict[list(trans_dict)[col]])) / float(counter)\n",
    "                    trans_prob[list(trans_dict)[col]] = state_prob\n",
    "\n",
    "    return trans_prob\n",
    "\n",
    "\n",
    "trans_prob = transition_prob(trans_states)\n",
    "trans_prob"
   ]
  },
  {
   "cell_type": "markdown",
   "id": "19007950-bb5a-49a3-b950-ef438c780616",
   "metadata": {},
   "source": [
    "transition probabilities to a matrix."
   ]
  },
  {
   "cell_type": "code",
   "execution_count": 49,
   "id": "e71d11d1-22fa-49b3-b444-753376bddeb9",
   "metadata": {},
   "outputs": [
    {
     "data": {
      "text/html": [
       "<div>\n",
       "<style scoped>\n",
       "    .dataframe tbody tr th:only-of-type {\n",
       "        vertical-align: middle;\n",
       "    }\n",
       "\n",
       "    .dataframe tbody tr th {\n",
       "        vertical-align: top;\n",
       "    }\n",
       "\n",
       "    .dataframe thead th {\n",
       "        text-align: right;\n",
       "    }\n",
       "</style>\n",
       "<table border=\"1\" class=\"dataframe\">\n",
       "  <thead>\n",
       "    <tr style=\"text-align: right;\">\n",
       "      <th></th>\n",
       "      <th>Null</th>\n",
       "      <th>Facebook</th>\n",
       "      <th>Online Display</th>\n",
       "      <th>Instagram</th>\n",
       "      <th>Start</th>\n",
       "      <th>Paid Search</th>\n",
       "      <th>Conversion</th>\n",
       "      <th>Online Video</th>\n",
       "    </tr>\n",
       "  </thead>\n",
       "  <tbody>\n",
       "    <tr>\n",
       "      <th>Null</th>\n",
       "      <td>1.000000</td>\n",
       "      <td>0.000000</td>\n",
       "      <td>0.000000</td>\n",
       "      <td>0.000000</td>\n",
       "      <td>0.0</td>\n",
       "      <td>0.000000</td>\n",
       "      <td>0.000000</td>\n",
       "      <td>0.000000</td>\n",
       "    </tr>\n",
       "    <tr>\n",
       "      <th>Facebook</th>\n",
       "      <td>0.673123</td>\n",
       "      <td>0.000000</td>\n",
       "      <td>0.024352</td>\n",
       "      <td>0.173072</td>\n",
       "      <td>0.0</td>\n",
       "      <td>0.050655</td>\n",
       "      <td>0.053220</td>\n",
       "      <td>0.025577</td>\n",
       "    </tr>\n",
       "    <tr>\n",
       "      <th>Online Display</th>\n",
       "      <td>0.756643</td>\n",
       "      <td>0.053986</td>\n",
       "      <td>0.000000</td>\n",
       "      <td>0.029363</td>\n",
       "      <td>0.0</td>\n",
       "      <td>0.092386</td>\n",
       "      <td>0.050324</td>\n",
       "      <td>0.017299</td>\n",
       "    </tr>\n",
       "    <tr>\n",
       "      <th>Instagram</th>\n",
       "      <td>0.629786</td>\n",
       "      <td>0.218777</td>\n",
       "      <td>0.023531</td>\n",
       "      <td>0.000000</td>\n",
       "      <td>0.0</td>\n",
       "      <td>0.045809</td>\n",
       "      <td>0.057979</td>\n",
       "      <td>0.024118</td>\n",
       "    </tr>\n",
       "    <tr>\n",
       "      <th>Start</th>\n",
       "      <td>0.000000</td>\n",
       "      <td>0.278408</td>\n",
       "      <td>0.142644</td>\n",
       "      <td>0.119188</td>\n",
       "      <td>0.0</td>\n",
       "      <td>0.317399</td>\n",
       "      <td>0.000000</td>\n",
       "      <td>0.142361</td>\n",
       "    </tr>\n",
       "    <tr>\n",
       "      <th>Paid Search</th>\n",
       "      <td>0.770779</td>\n",
       "      <td>0.064442</td>\n",
       "      <td>0.048053</td>\n",
       "      <td>0.034196</td>\n",
       "      <td>0.0</td>\n",
       "      <td>0.000000</td>\n",
       "      <td>0.053309</td>\n",
       "      <td>0.029221</td>\n",
       "    </tr>\n",
       "    <tr>\n",
       "      <th>Conversion</th>\n",
       "      <td>0.000000</td>\n",
       "      <td>0.000000</td>\n",
       "      <td>0.000000</td>\n",
       "      <td>0.000000</td>\n",
       "      <td>0.0</td>\n",
       "      <td>0.000000</td>\n",
       "      <td>1.000000</td>\n",
       "      <td>0.000000</td>\n",
       "    </tr>\n",
       "    <tr>\n",
       "      <th>Online Video</th>\n",
       "      <td>0.763757</td>\n",
       "      <td>0.059323</td>\n",
       "      <td>0.018920</td>\n",
       "      <td>0.031908</td>\n",
       "      <td>0.0</td>\n",
       "      <td>0.047947</td>\n",
       "      <td>0.078146</td>\n",
       "      <td>0.000000</td>\n",
       "    </tr>\n",
       "  </tbody>\n",
       "</table>\n",
       "</div>"
      ],
      "text/plain": [
       "                    Null  Facebook  Online Display  Instagram  Start  \\\n",
       "Null            1.000000  0.000000        0.000000   0.000000    0.0   \n",
       "Facebook        0.673123  0.000000        0.024352   0.173072    0.0   \n",
       "Online Display  0.756643  0.053986        0.000000   0.029363    0.0   \n",
       "Instagram       0.629786  0.218777        0.023531   0.000000    0.0   \n",
       "Start           0.000000  0.278408        0.142644   0.119188    0.0   \n",
       "Paid Search     0.770779  0.064442        0.048053   0.034196    0.0   \n",
       "Conversion      0.000000  0.000000        0.000000   0.000000    0.0   \n",
       "Online Video    0.763757  0.059323        0.018920   0.031908    0.0   \n",
       "\n",
       "                Paid Search  Conversion  Online Video  \n",
       "Null               0.000000    0.000000      0.000000  \n",
       "Facebook           0.050655    0.053220      0.025577  \n",
       "Online Display     0.092386    0.050324      0.017299  \n",
       "Instagram          0.045809    0.057979      0.024118  \n",
       "Start              0.317399    0.000000      0.142361  \n",
       "Paid Search        0.000000    0.053309      0.029221  \n",
       "Conversion         0.000000    1.000000      0.000000  \n",
       "Online Video       0.047947    0.078146      0.000000  "
      ]
     },
     "execution_count": 49,
     "metadata": {},
     "output_type": "execute_result"
    }
   ],
   "source": [
    "# Transform the dict to a Transition probability matrix\n",
    "def transition_matrix(list_of_paths, transition_probabilities):\n",
    "    trans_matrix = pd.DataFrame()\n",
    "    list_of_unique_channels = set(x for element in list_of_paths for x in element)\n",
    "\n",
    "    for channel in list_of_unique_channels:\n",
    "        trans_matrix[channel] = 0.00\n",
    "        trans_matrix.loc[channel] = 0.00\n",
    "        trans_matrix.loc[channel][channel] = 1.0 if channel in ['Conversion', 'Null'] else 0.0\n",
    "\n",
    "    for key, value in transition_probabilities.items():\n",
    "        origin, destination = key.split('>')\n",
    "        trans_matrix.at[origin, destination] = value\n",
    "\n",
    "    return trans_matrix\n",
    "\n",
    "\n",
    "trans_matrix = transition_matrix(list_of_paths, trans_prob)\n",
    "trans_matrix"
   ]
  },
  {
   "cell_type": "markdown",
   "id": "1f9ad959-7b8c-4297-b60a-0269791b43c0",
   "metadata": {},
   "source": [
    "# Heatmap"
   ]
  },
  {
   "cell_type": "code",
   "execution_count": 51,
   "id": "2766cb03-ad71-445d-93b1-f9971e997fdd",
   "metadata": {},
   "outputs": [
    {
     "data": {
      "image/png": "[encoded data removed]",
      "text/plain": [
       "<Figure size 640x480 with 2 Axes>"
      ]
     },
     "metadata": {},
     "output_type": "display_data"
    }
   ],
   "source": [
    "import numpy as np\n",
    "import seaborn as sns\n",
    "import matplotlib.pylab as plt\n",
    "%matplotlib inline\n",
    "\n",
    "ax = sns.heatmap(trans_matrix, linewidth=0.5, cmap=\"YlGnBu\")\n",
    "plt.show()"
   ]
  },
  {
   "cell_type": "markdown",
   "id": "41a2fa06-2db9-40ca-bc50-081972e13c9e",
   "metadata": {},
   "source": [
    "Ad-Channel Impact "
   ]
  },
  {
   "cell_type": "code",
   "execution_count": 52,
   "id": "675a46bc-8914-453e-b9be-2d81f466998f",
   "metadata": {},
   "outputs": [
    {
     "data": {
      "text/plain": [
       "{'Facebook': 0.3547597674182721,\n",
       " 'Online Display': 0.15435482356041275,\n",
       " 'Instagram': 0.21731366149038456,\n",
       " 'Paid Search': 0.3311037560086154,\n",
       " 'Online Video': 0.20691411655642178}"
      ]
     },
     "execution_count": 52,
     "metadata": {},
     "output_type": "execute_result"
    }
   ],
   "source": [
    "def removal_effects(df, conversion_rate):\n",
    "    removal_effects_dict = {}\n",
    "    channels = [channel for channel in df.columns if channel not in ['Start',\n",
    "                                                                     'Null',\n",
    "                                                                     'Conversion']]\n",
    "    for channel in channels:\n",
    "        removal_df = df.drop(channel, axis=1).drop(channel, axis=0)\n",
    "        for column in removal_df.columns:\n",
    "            row_sum = np.sum(list(removal_df.loc[column]))\n",
    "            null_pct = float(1) - row_sum\n",
    "            if null_pct != 0:\n",
    "                removal_df.loc[column]['Null'] = null_pct\n",
    "            removal_df.loc['Null']['Null'] = 1.0\n",
    "\n",
    "        removal_to_conv = removal_df[\n",
    "            ['Null', 'Conversion']].drop(['Null', 'Conversion'], axis=0)\n",
    "        removal_to_non_conv = removal_df.drop(\n",
    "            ['Null', 'Conversion'], axis=1).drop(['Null', 'Conversion'], axis=0)\n",
    "\n",
    "        removal_inv_diff = np.linalg.inv(\n",
    "            np.identity(\n",
    "                len(removal_to_non_conv.columns)) - np.asarray(removal_to_non_conv))\n",
    "        removal_dot_prod = np.dot(removal_inv_diff, np.asarray(removal_to_conv))\n",
    "        removal_cvr = pd.DataFrame(removal_dot_prod,\n",
    "                                   index=removal_to_conv.index)[[1]].loc['Start'].values[0]\n",
    "        removal_effect = 1 - removal_cvr / conversion_rate\n",
    "        removal_effects_dict[channel] = removal_effect\n",
    "\n",
    "    return removal_effects_dict\n",
    "\n",
    "\n",
    "removal_effects_dict = removal_effects(trans_matrix, base_conversion_rate)\n",
    "removal_effects_dict"
   ]
  },
  {
   "cell_type": "markdown",
   "id": "0fe62386-fa49-48f8-89ad-63b43bbb9d3d",
   "metadata": {},
   "source": [
    "conversions impact by each channel"
   ]
  },
  {
   "cell_type": "code",
   "execution_count": 54,
   "id": "3a44e702-70f7-4609-ac9a-b8ea02cb3e89",
   "metadata": {},
   "outputs": [
    {
     "data": {
      "text/plain": [
       "{'Facebook': 4948.892177847523,\n",
       " 'Online Display': 2153.2469267590823,\n",
       " 'Instagram': 3031.521548555893,\n",
       " 'Paid Search': 4618.891257291356,\n",
       " 'Online Video': 2886.4480895461456}"
      ]
     },
     "execution_count": 54,
     "metadata": {},
     "output_type": "execute_result"
    }
   ],
   "source": [
    "def markov_chain_allocations(removal_effects, total_conversions):\n",
    "    re_sum = np.sum(list(removal_effects.values()))\n",
    "\n",
    "    return {k: (v / re_sum) * total_conversions for k, v in removal_effects.items()}\n",
    "\n",
    "\n",
    "attributions = markov_chain_allocations(removal_effects_dict, total_conversions)\n",
    "attributions"
   ]
  },
  {
   "cell_type": "code",
   "execution_count": null,
   "id": "04257522-ac18-4fde-9725-8167eda6c3b7",
   "metadata": {},
   "outputs": [],
   "source": []
  }
 ],
 "metadata": {
  "kernelspec": {
   "display_name": "Python 3 (ipykernel)",
   "language": "python",
   "name": "python3"
  },
  "language_info": {
   "codemirror_mode": {
    "name": "ipython",
    "version": 3
   },
   "file_extension": ".py",
   "mimetype": "text/x-python",
   "name": "python",
   "nbconvert_exporter": "python",
   "pygments_lexer": "ipython3",
   "version": "3.9.12"
  }
 },
 "nbformat": 4,
 "nbformat_minor": 5
}
